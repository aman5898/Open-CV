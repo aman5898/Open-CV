{
 "cells": [
  {
   "cell_type": "code",
   "execution_count": 2,
   "id": "3a671b78",
   "metadata": {},
   "outputs": [],
   "source": [
    "import mediapipe as mp\n",
    "import cv2\n",
    "import pydirectinput"
   ]
  },
  {
   "cell_type": "code",
   "execution_count": 3,
   "id": "ede41713",
   "metadata": {},
   "outputs": [],
   "source": [
    "mp_drawing=mp.solutions.drawing_utils\n",
    "mp_holistic=mp.solutions.holistic\n",
    "mp_pose=mp.solutions.pose"
   ]
  },
  {
   "cell_type": "code",
   "execution_count": 6,
   "id": "89f1995a",
   "metadata": {},
   "outputs": [],
   "source": [
    "cap=cv2.VideoCapture(0)\n",
    "cap.set(3,560)\n",
    "cap.set(4,400)\n",
    "with mp_holistic.Holistic(min_detection_confidence=0.5, min_tracking_confidence=0.5) as holistic:\n",
    "    while cap.isOpened():\n",
    "        success,img=cap.read()\n",
    "        img=cv2.flip(img,1)\n",
    "        #color\n",
    "        img=cv2.cvtColor(img,cv2.COLOR_BGR2RGB)\n",
    "        results=holistic.process(img)\n",
    "        img=cv2.cvtColor(img,cv2.COLOR_RGB2BGR)\n",
    "        height,width,_=img.shape\n",
    "#         print(results.pose_landmarks.landmark[mp_pose.PoseLandmark.LEFT_WRIST].x*width)\n",
    "        \n",
    "        \n",
    "\n",
    "        try:\n",
    "            right_hand = (results.pose_landmarks.landmark[mp_pose.PoseLandmark.LEFT_WRIST].x * width,\n",
    "                                  results.pose_landmarks.landmark[mp_pose.PoseLandmark.LEFT_WRIST].y * height)\n",
    "           \n",
    "            y_mid=height//2\n",
    "\n",
    "            pose=\"move\"\n",
    "            if(right_hand[1]<y_mid):\n",
    "                pose=\"acc\"\n",
    "                pydirectinput.keyDown('right')\n",
    "                pydirectinput.keyUp('left')\n",
    "            elif(right_hand[1]>y_mid):\n",
    "                pose=\"break\"\n",
    "                pydirectinput.keyDown('left')\n",
    "                pydirectinput.keyUp('right')\n",
    "        except:\n",
    "            pass         \n",
    "        cv2.putText(img,pose,(20,20),cv2.FONT_HERSHEY_PLAIN,2,(255,255,0),2)\n",
    "        cv2.line(img,(0,y_mid),(width,y_mid),(255,0,255),2)\n",
    "        \n",
    "        mp_drawing.draw_landmarks(img, results.pose_landmarks, mp_holistic.POSE_CONNECTIONS, \n",
    "                                 mp_drawing.DrawingSpec(color=(180, 105, 255), thickness=2, circle_radius=4),\n",
    "                                 mp_drawing.DrawingSpec(color=(255,255,255), thickness=2, circle_radius=2)\n",
    "                                 )\n",
    "        \n",
    "        cv2.imshow('CarGame',img)\n",
    "        if cv2.waitKey(1)==ord('q'):\n",
    "            break;\n",
    "cap.release()\n",
    "cv2.destroyAllWindows()"
   ]
  },
  {
   "cell_type": "code",
   "execution_count": 5,
   "id": "22346472",
   "metadata": {},
   "outputs": [],
   "source": [
    "cap.release()\n",
    "cv2.destroyAllWindows()"
   ]
  },
  {
   "cell_type": "code",
   "execution_count": null,
   "id": "795f34cd",
   "metadata": {},
   "outputs": [],
   "source": []
  }
 ],
 "metadata": {
  "kernelspec": {
   "display_name": "Python 3 (ipykernel)",
   "language": "python",
   "name": "python3"
  },
  "language_info": {
   "codemirror_mode": {
    "name": "ipython",
    "version": 3
   },
   "file_extension": ".py",
   "mimetype": "text/x-python",
   "name": "python",
   "nbconvert_exporter": "python",
   "pygments_lexer": "ipython3",
   "version": "3.9.7"
  }
 },
 "nbformat": 4,
 "nbformat_minor": 5
}
