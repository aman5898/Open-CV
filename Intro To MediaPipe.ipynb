{
 "cells": [
  {
   "cell_type": "code",
   "execution_count": 1,
   "id": "7607c9ab",
   "metadata": {},
   "outputs": [
    {
     "name": "stdout",
     "output_type": "stream",
     "text": [
      "Requirement already satisfied: mediapipe in c:\\users\\amanku\\appdata\\local\\programs\\python\\python39\\lib\\site-packages (0.8.9)\n",
      "Requirement already satisfied: opencv-python in c:\\users\\amanku\\appdata\\local\\programs\\python\\python39\\lib\\site-packages (4.5.4.60)\n",
      "Requirement already satisfied: numpy in c:\\users\\amanku\\appdata\\local\\programs\\python\\python39\\lib\\site-packages (from mediapipe) (1.21.4)\n",
      "Requirement already satisfied: absl-py in c:\\users\\amanku\\appdata\\local\\programs\\python\\python39\\lib\\site-packages (from mediapipe) (1.0.0)\n",
      "Requirement already satisfied: opencv-contrib-python in c:\\users\\amanku\\appdata\\local\\programs\\python\\python39\\lib\\site-packages (from mediapipe) (4.5.4.60)\n",
      "Requirement already satisfied: protobuf>=3.11.4 in c:\\users\\amanku\\appdata\\local\\programs\\python\\python39\\lib\\site-packages (from mediapipe) (3.19.1)\n",
      "Requirement already satisfied: wheel in c:\\users\\amanku\\appdata\\local\\programs\\python\\python39\\lib\\site-packages (from mediapipe) (0.37.0)\n",
      "Requirement already satisfied: matplotlib in c:\\users\\amanku\\appdata\\local\\programs\\python\\python39\\lib\\site-packages (from mediapipe) (3.5.0)\n",
      "Requirement already satisfied: six in c:\\users\\amanku\\appdata\\local\\programs\\python\\python39\\lib\\site-packages (from mediapipe) (1.16.0)\n",
      "Requirement already satisfied: attrs>=19.1.0 in c:\\users\\amanku\\appdata\\local\\programs\\python\\python39\\lib\\site-packages (from mediapipe) (21.2.0)\n",
      "Requirement already satisfied: fonttools>=4.22.0 in c:\\users\\amanku\\appdata\\local\\programs\\python\\python39\\lib\\site-packages (from matplotlib->mediapipe) (4.28.3)\n",
      "Requirement already satisfied: kiwisolver>=1.0.1 in c:\\users\\amanku\\appdata\\local\\programs\\python\\python39\\lib\\site-packages (from matplotlib->mediapipe) (1.3.2)\n",
      "Requirement already satisfied: cycler>=0.10 in c:\\users\\amanku\\appdata\\local\\programs\\python\\python39\\lib\\site-packages (from matplotlib->mediapipe) (0.11.0)\n",
      "Requirement already satisfied: setuptools-scm>=4 in c:\\users\\amanku\\appdata\\local\\programs\\python\\python39\\lib\\site-packages (from matplotlib->mediapipe) (6.3.2)\n",
      "Requirement already satisfied: pillow>=6.2.0 in c:\\users\\amanku\\appdata\\local\\programs\\python\\python39\\lib\\site-packages (from matplotlib->mediapipe) (8.4.0)\n",
      "Requirement already satisfied: pyparsing>=2.2.1 in c:\\users\\amanku\\appdata\\local\\programs\\python\\python39\\lib\\site-packages (from matplotlib->mediapipe) (3.0.6)\n",
      "Requirement already satisfied: python-dateutil>=2.7 in c:\\users\\amanku\\appdata\\local\\programs\\python\\python39\\lib\\site-packages (from matplotlib->mediapipe) (2.8.2)\n",
      "Requirement already satisfied: packaging>=20.0 in c:\\users\\amanku\\appdata\\local\\programs\\python\\python39\\lib\\site-packages (from matplotlib->mediapipe) (21.3)\n",
      "Requirement already satisfied: tomli>=1.0.0 in c:\\users\\amanku\\appdata\\local\\programs\\python\\python39\\lib\\site-packages (from setuptools-scm>=4->matplotlib->mediapipe) (1.2.2)\n",
      "Requirement already satisfied: setuptools in c:\\users\\amanku\\appdata\\local\\programs\\python\\python39\\lib\\site-packages (from setuptools-scm>=4->matplotlib->mediapipe) (57.4.0)\n"
     ]
    },
    {
     "name": "stderr",
     "output_type": "stream",
     "text": [
      "WARNING: You are using pip version 21.2.3; however, version 21.3.1 is available.\n",
      "You should consider upgrading via the 'C:\\Users\\amanku\\AppData\\Local\\Programs\\Python\\Python39\\python.exe -m pip install --upgrade pip' command.\n"
     ]
    }
   ],
   "source": [
    "!pip install mediapipe opencv-python"
   ]
  },
  {
   "cell_type": "code",
   "execution_count": 2,
   "id": "61d83dfa",
   "metadata": {},
   "outputs": [],
   "source": [
    "import mediapipe as mp\n",
    "import cv2"
   ]
  },
  {
   "cell_type": "code",
   "execution_count": 4,
   "id": "2b8fb674",
   "metadata": {},
   "outputs": [],
   "source": [
    "vid = cv2.VideoCapture(0)\n",
    "\n",
    "while vid.isOpened():\n",
    "    ret,frame = vid.read()\n",
    "    cv2.imshow('web Cam', frame)\n",
    "    \n",
    "    if cv2.waitKey(1) & 0xff == ord('q'):\n",
    "        break\n",
    "        \n",
    "vid.release()\n",
    "cv2.destroyAllWindows()"
   ]
  },
  {
   "cell_type": "code",
   "execution_count": null,
   "id": "c1a51e80",
   "metadata": {},
   "outputs": [],
   "source": []
  }
 ],
 "metadata": {
  "kernelspec": {
   "display_name": "Python 3 (ipykernel)",
   "language": "python",
   "name": "python3"
  },
  "language_info": {
   "codemirror_mode": {
    "name": "ipython",
    "version": 3
   },
   "file_extension": ".py",
   "mimetype": "text/x-python",
   "name": "python",
   "nbconvert_exporter": "python",
   "pygments_lexer": "ipython3",
   "version": "3.9.7"
  }
 },
 "nbformat": 4,
 "nbformat_minor": 5
}
