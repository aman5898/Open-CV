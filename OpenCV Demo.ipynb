{
 "cells": [
  {
   "cell_type": "code",
   "execution_count": 1,
   "id": "a25c61b5",
   "metadata": {},
   "outputs": [],
   "source": [
    "import cv2"
   ]
  },
  {
   "cell_type": "code",
   "execution_count": 3,
   "id": "64c4450a",
   "metadata": {},
   "outputs": [],
   "source": [
    "img = cv2.imread(\"Aman Profile Picture.jpg\")"
   ]
  },
  {
   "cell_type": "code",
   "execution_count": 16,
   "id": "0c343f58",
   "metadata": {},
   "outputs": [],
   "source": [
    "cv2.imshow(\"Image\",img)\n",
    "cv2.waitKey(0)\n",
    "cv2.destroyAllWindows()"
   ]
  },
  {
   "cell_type": "code",
   "execution_count": 5,
   "id": "f8a9eddb",
   "metadata": {},
   "outputs": [
    {
     "data": {
      "text/plain": [
       "(574, 574, 3)"
      ]
     },
     "execution_count": 5,
     "metadata": {},
     "output_type": "execute_result"
    }
   ],
   "source": [
    "img.shape"
   ]
  },
  {
   "cell_type": "code",
   "execution_count": 17,
   "id": "4544a708",
   "metadata": {},
   "outputs": [],
   "source": [
    "img = cv2.resize(img,(40,40))"
   ]
  },
  {
   "cell_type": "code",
   "execution_count": 18,
   "id": "ed16e905",
   "metadata": {},
   "outputs": [],
   "source": [
    "gray = cv2.cvtColor(img,cv2.COLOR_BGR2GRAY)"
   ]
  },
  {
   "cell_type": "code",
   "execution_count": 19,
   "id": "aabac933",
   "metadata": {},
   "outputs": [],
   "source": [
    "cv2.imshow(\"Gray Image\",gray)\n",
    "cv2.waitKey(0)\n",
    "cv2.destroyAllWindows()"
   ]
  },
  {
   "cell_type": "code",
   "execution_count": 20,
   "id": "1ffb146c",
   "metadata": {},
   "outputs": [],
   "source": [
    "# video Capture Part\n"
   ]
  },
  {
   "cell_type": "code",
   "execution_count": 23,
   "id": "88c9800a",
   "metadata": {},
   "outputs": [],
   "source": [
    "vid = cv2.VideoCapture(\"videoplayback (1).mp4\")"
   ]
  },
  {
   "cell_type": "code",
   "execution_count": 25,
   "id": "78e21e18",
   "metadata": {},
   "outputs": [],
   "source": [
    "while True:\n",
    "    try:\n",
    "        res,frame = vid.read()\n",
    "        cv2.imshow(\"video\",frame)\n",
    "        \n",
    "    except:\n",
    "        pass\n",
    "    \n",
    "    if cv2.waitKey(1) & 0xff == ord('q'):\n",
    "        break\n",
    "cv2.destroyAllWindows()"
   ]
  },
  {
   "cell_type": "code",
   "execution_count": 26,
   "id": "2e5cb38b",
   "metadata": {},
   "outputs": [],
   "source": [
    "#Edge Detection using OpenCv"
   ]
  },
  {
   "cell_type": "code",
   "execution_count": 27,
   "id": "61ca4370",
   "metadata": {},
   "outputs": [],
   "source": [
    "#Edge Detection works only on Gray Scale Images"
   ]
  },
  {
   "cell_type": "code",
   "execution_count": 28,
   "id": "ea6a9de4",
   "metadata": {},
   "outputs": [],
   "source": [
    "img = cv2.imread(\"Aman Profile Picture.jpg\")"
   ]
  },
  {
   "cell_type": "code",
   "execution_count": 33,
   "id": "afbaa842",
   "metadata": {},
   "outputs": [],
   "source": [
    "cv2.imshow(\"Image\",img)\n",
    "cv2.waitKey(0)\n",
    "cv2.destroyAllWindows()"
   ]
  },
  {
   "cell_type": "code",
   "execution_count": 34,
   "id": "f607030e",
   "metadata": {},
   "outputs": [],
   "source": [
    "gray = cv2.cvtColor(img,cv2.COLOR_BGR2GRAY)"
   ]
  },
  {
   "cell_type": "code",
   "execution_count": 35,
   "id": "5ae1561b",
   "metadata": {},
   "outputs": [],
   "source": [
    "cv2.imshow(\"Image\",gray)\n",
    "cv2.waitKey(0)\n",
    "cv2.destroyAllWindows()"
   ]
  },
  {
   "cell_type": "code",
   "execution_count": 36,
   "id": "15179737",
   "metadata": {},
   "outputs": [],
   "source": [
    "canny_img = cv2.Canny(gray,100,100)"
   ]
  },
  {
   "cell_type": "code",
   "execution_count": 39,
   "id": "019c160e",
   "metadata": {},
   "outputs": [],
   "source": [
    "cv2.imshow(\"Edge\",canny_img)\n",
    "cv2.waitKey(0)\n",
    "cv2.destroyAllWindows()"
   ]
  },
  {
   "cell_type": "code",
   "execution_count": 41,
   "id": "69591257",
   "metadata": {},
   "outputs": [],
   "source": [
    "vid = cv2.VideoCapture(0)"
   ]
  },
  {
   "cell_type": "code",
   "execution_count": 44,
   "id": "c0ef6abb",
   "metadata": {},
   "outputs": [],
   "source": [
    "while True:\n",
    "    try:\n",
    "        res,frame = vid.read()\n",
    "        frame = cv2.cvtColor(frame,cv2.COLOR_BGR2GRAY)\n",
    "        frame = cv2.Canny(frame,100,100)\n",
    "        cv2.imshow(\"video\",frame)\n",
    "        \n",
    "    except:\n",
    "        pass\n",
    "    \n",
    "    if cv2.waitKey(1) & 0xff == ord('q'):\n",
    "        break\n",
    "cv2.destroyAllWindows()"
   ]
  },
  {
   "cell_type": "code",
   "execution_count": 45,
   "id": "1f139485",
   "metadata": {},
   "outputs": [],
   "source": [
    "#Erosion and Dilation\n",
    "\n",
    "#Erosion\n",
    "#Noise Htana"
   ]
  },
  {
   "cell_type": "code",
   "execution_count": 46,
   "id": "3022c048",
   "metadata": {},
   "outputs": [],
   "source": [
    "import numpy as np"
   ]
  },
  {
   "cell_type": "code",
   "execution_count": 84,
   "id": "ecbe0313",
   "metadata": {},
   "outputs": [],
   "source": [
    "kernel = np.ones((4,4),np.uint8)"
   ]
  },
  {
   "cell_type": "code",
   "execution_count": 75,
   "id": "c7d3e747",
   "metadata": {},
   "outputs": [],
   "source": [
    "erode_image = cv2.erode(canny_img,kernel,iterations=10)"
   ]
  },
  {
   "cell_type": "code",
   "execution_count": 76,
   "id": "b0e493c9",
   "metadata": {},
   "outputs": [],
   "source": [
    "cv2.imshow(\"Title\",erode_image)\n",
    "cv2.waitKey(0)\n",
    "cv2.destroyAllWindows()\n"
   ]
  },
  {
   "cell_type": "code",
   "execution_count": 77,
   "id": "d0047ef4",
   "metadata": {},
   "outputs": [],
   "source": [
    "#Dilation\n",
    "#Changing of Width"
   ]
  },
  {
   "cell_type": "code",
   "execution_count": 87,
   "id": "84f68289",
   "metadata": {},
   "outputs": [],
   "source": [
    "dialated_Image = cv2.dilate(canny_img,kernel,iterations=10)"
   ]
  },
  {
   "cell_type": "code",
   "execution_count": 88,
   "id": "d64b8316",
   "metadata": {},
   "outputs": [],
   "source": [
    "cv2.imshow(\"Name\",dialated_Image)\n",
    "cv2.waitKey(0)\n",
    "cv2.destroyAllWindows()"
   ]
  },
  {
   "cell_type": "code",
   "execution_count": null,
   "id": "b4763e7b",
   "metadata": {},
   "outputs": [],
   "source": []
  }
 ],
 "metadata": {
  "kernelspec": {
   "display_name": "Python 3 (ipykernel)",
   "language": "python",
   "name": "python3"
  },
  "language_info": {
   "codemirror_mode": {
    "name": "ipython",
    "version": 3
   },
   "file_extension": ".py",
   "mimetype": "text/x-python",
   "name": "python",
   "nbconvert_exporter": "python",
   "pygments_lexer": "ipython3",
   "version": "3.9.7"
  }
 },
 "nbformat": 4,
 "nbformat_minor": 5
}
